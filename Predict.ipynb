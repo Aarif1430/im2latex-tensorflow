{
 "cells": [
  {
   "cell_type": "code",
   "execution_count": 2,
   "metadata": {
    "collapsed": true
   },
   "outputs": [],
   "source": [
    "import numpy as np\n",
    "import re\n",
    "from IPython.display import display, Math, Latex, Image"
   ]
  },
  {
   "cell_type": "markdown",
   "metadata": {},
   "source": [
    "### Load properties file, result files created by predict() function"
   ]
  },
  {
   "cell_type": "code",
   "execution_count": 3,
   "metadata": {
    "collapsed": true
   },
   "outputs": [],
   "source": [
    "import numpy as np\n",
    "imgs = np.load('pred_imgs.npy')\n",
    "preds = np.load('pred_latex.npy')\n",
    "properties = np.load('properties.npy').tolist()\n",
    "displayPreds = lambda Y: display(Math(Y.split('#END')[0]))\n",
    "idx_to_chars = lambda Y: ' '.join(map(lambda x: properties['idx_to_char'][x],Y))\n",
    "#displayIdxs = lambda Y: display(Math(''.join(map(lambda x: properties['idx_to_char'][x],Y))))"
   ]
  },
  {
   "cell_type": "markdown",
   "metadata": {},
   "source": [
    "### Prepare Image display function"
   ]
  },
  {
   "cell_type": "code",
   "execution_count": 4,
   "metadata": {
    "collapsed": true
   },
   "outputs": [],
   "source": [
    "import PIL.Image\n",
    "from cStringIO import StringIO\n",
    "import IPython.display\n",
    "import numpy as np\n",
    "def showarray(a, fmt='png'):\n",
    "    a = np.uint8(a)\n",
    "    f = StringIO()\n",
    "    PIL.Image.fromarray(a).save(f, fmt)\n",
    "    IPython.display.display(IPython.display.Image(data=f.getvalue()))"
   ]
  },
  {
   "cell_type": "markdown",
   "metadata": {},
   "source": [
    "### Display original Input image, predicted latex tokens and render the corresponding result"
   ]
  },
  {
   "cell_type": "code",
   "execution_count": 4,
   "metadata": {
    "collapsed": false
   },
   "outputs": [
    {
     "name": "stdout",
     "output_type": "stream",
     "text": [
      "Original (Input) Image: 1\n"
     ]
    },
    {
     "data": {
      "image/png": "[encoded data removed]",
      "text/plain": [
       "<IPython.core.display.Image object>"
      ]
     },
     "metadata": {},
     "output_type": "display_data"
    },
    {
     "name": "stdout",
     "output_type": "stream",
     "text": [
      "Predicted Latex\n",
      "2 f ^ { 2 } - 4 f ^ { 2 } - g ^ { 2 } ( 1 - \\Gamma ) \\, , \n",
      "\n",
      "Rendering the predicted latex\n"
     ]
    },
    {
     "data": {
      "text/latex": [
       "$$2 f ^ { 2 } - 4 f ^ { 2 } - g ^ { 2 } ( 1 - \\Gamma ) \\, , $$"
      ],
      "text/plain": [
       "<IPython.core.display.Math object>"
      ]
     },
     "metadata": {},
     "output_type": "display_data"
    },
    {
     "name": "stdout",
     "output_type": "stream",
     "text": [
      "\n",
      "\n",
      "Original (Input) Image: 2\n"
     ]
    },
    {
     "data": {
      "image/png": "[encoded data removed]",
      "text/plain": [
       "<IPython.core.display.Image object>"
      ]
     },
     "metadata": {},
     "output_type": "display_data"
    },
    {
     "name": "stdout",
     "output_type": "stream",
     "text": [
      "Predicted Latex\n",
      "\\delta | \\Phi ^ { ( n ) } \\rangle \\ = \\ \\ { \\cal Q } \\left| \\Phi ^ { ( n + 1 ) } \\rangle \\; , \n",
      "\n",
      "Rendering the predicted latex\n"
     ]
    },
    {
     "data": {
      "text/latex": [
       "$$\\delta | \\Phi ^ { ( n ) } \\rangle \\ = \\ \\ { \\cal Q } \\left| \\Phi ^ { ( n + 1 ) } \\rangle \\; , $$"
      ],
      "text/plain": [
       "<IPython.core.display.Math object>"
      ]
     },
     "metadata": {},
     "output_type": "display_data"
    },
    {
     "name": "stdout",
     "output_type": "stream",
     "text": [
      "\n",
      "\n",
      "Original (Input) Image: 3\n"
     ]
    },
    {
     "data": {
      "image/png": "[encoded data removed]",
      "text/plain": [
       "<IPython.core.display.Image object>"
      ]
     },
     "metadata": {},
     "output_type": "display_data"
    },
    {
     "name": "stdout",
     "output_type": "stream",
     "text": [
      "Predicted Latex\n",
      "+ t _ { 2 } e _ { 1 } r _ { 2 } + t _ { 2 } 2 e _ { 2 } r _ { 3 } + t _ { 2 } e _ { 3 } r _ { 4 } \n",
      "\n",
      "Rendering the predicted latex\n"
     ]
    },
    {
     "data": {
      "text/latex": [
       "$$+ t _ { 2 } e _ { 1 } r _ { 2 } + t _ { 2 } 2 e _ { 2 } r _ { 3 } + t _ { 2 } e _ { 3 } r _ { 4 } $$"
      ],
      "text/plain": [
       "<IPython.core.display.Math object>"
      ]
     },
     "metadata": {},
     "output_type": "display_data"
    },
    {
     "name": "stdout",
     "output_type": "stream",
     "text": [
      "\n",
      "\n",
      "Original (Input) Image: 4\n"
     ]
    },
    {
     "data": {
      "image/png": "[encoded data removed]",
      "text/plain": [
       "<IPython.core.display.Image object>"
      ]
     },
     "metadata": {},
     "output_type": "display_data"
    },
    {
     "name": "stdout",
     "output_type": "stream",
     "text": [
      "Predicted Latex\n",
      "\\Delta { \\cal L } _ { 0 } = \\left. \\tilde { C } _ { 0 } T e ^ { - 2 T e ^ { - D } } \n",
      "\n",
      "Rendering the predicted latex\n"
     ]
    },
    {
     "data": {
      "text/latex": [
       "$$\\Delta { \\cal L } _ { 0 } = \\left. \\tilde { C } _ { 0 } T e ^ { - 2 T e ^ { - D } } $$"
      ],
      "text/plain": [
       "<IPython.core.display.Math object>"
      ]
     },
     "metadata": {},
     "output_type": "display_data"
    },
    {
     "name": "stdout",
     "output_type": "stream",
     "text": [
      "\n",
      "\n",
      "Original (Input) Image: 5\n"
     ]
    },
    {
     "data": {
      "image/png": "[encoded data removed]",
      "text/plain": [
       "<IPython.core.display.Image object>"
      ]
     },
     "metadata": {},
     "output_type": "display_data"
    },
    {
     "name": "stdout",
     "output_type": "stream",
     "text": [
      "Predicted Latex\n",
      "\\Psi _ { \\epsilon } ( N _ { L } , \\, A ) = e ^ { i P \\; N _ { L } } \\Psi _ { \\epsilon } ( A ) \n",
      "\n",
      "Rendering the predicted latex\n"
     ]
    },
    {
     "data": {
      "text/latex": [
       "$$\\Psi _ { \\epsilon } ( N _ { L } , \\, A ) = e ^ { i P \\; N _ { L } } \\Psi _ { \\epsilon } ( A ) $$"
      ],
      "text/plain": [
       "<IPython.core.display.Math object>"
      ]
     },
     "metadata": {},
     "output_type": "display_data"
    },
    {
     "name": "stdout",
     "output_type": "stream",
     "text": [
      "\n",
      "\n",
      "Original (Input) Image: 6\n"
     ]
    },
    {
     "data": {
      "image/png": "[encoded data removed]",
      "text/plain": [
       "<IPython.core.display.Image object>"
      ]
     },
     "metadata": {},
     "output_type": "display_data"
    },
    {
     "name": "stdout",
     "output_type": "stream",
     "text": [
      "Predicted Latex\n",
      "{ \\cal F } ( - \\hat { k } _ { 1 } , - \\hat { k } _ { 1 } ) = { \\cal F } ( \\hat { k } _ { 1 } , \\hat { k } _ { 1 } ) , \n",
      "\n",
      "Rendering the predicted latex\n"
     ]
    },
    {
     "data": {
      "text/latex": [
       "$${ \\cal F } ( - \\hat { k } _ { 1 } , - \\hat { k } _ { 1 } ) = { \\cal F } ( \\hat { k } _ { 1 } , \\hat { k } _ { 1 } ) , $$"
      ],
      "text/plain": [
       "<IPython.core.display.Math object>"
      ]
     },
     "metadata": {},
     "output_type": "display_data"
    },
    {
     "name": "stdout",
     "output_type": "stream",
     "text": [
      "\n",
      "\n",
      "Original (Input) Image: 7\n"
     ]
    },
    {
     "data": {
      "image/png": "[encoded data removed]",
      "text/plain": [
       "<IPython.core.display.Image object>"
      ]
     },
     "metadata": {},
     "output_type": "display_data"
    },
    {
     "name": "stdout",
     "output_type": "stream",
     "text": [
      "Predicted Latex\n",
      "M ( n _ { e } , n _ { m } ) = | n _ { e } a + n _ { m } a _ { D } | . \n",
      "\n",
      "Rendering the predicted latex\n"
     ]
    },
    {
     "data": {
      "text/latex": [
       "$$M ( n _ { e } , n _ { m } ) = | n _ { e } a + n _ { m } a _ { D } | . $$"
      ],
      "text/plain": [
       "<IPython.core.display.Math object>"
      ]
     },
     "metadata": {},
     "output_type": "display_data"
    },
    {
     "name": "stdout",
     "output_type": "stream",
     "text": [
      "\n",
      "\n",
      "Original (Input) Image: 8\n"
     ]
    },
    {
     "data": {
      "image/png": "[encoded data removed]",
      "text/plain": [
       "<IPython.core.display.Image object>"
      ]
     },
     "metadata": {},
     "output_type": "display_data"
    },
    {
     "name": "stdout",
     "output_type": "stream",
     "text": [
      "Predicted Latex\n",
      "\\| \\varphi * f \\| _ { \\infty } \\leq \\| \\varphi \\| _ { 1 } \\| f \\| _ { \\infty } . \n",
      "\n",
      "Rendering the predicted latex\n"
     ]
    },
    {
     "data": {
      "text/latex": [
       "$$\\| \\varphi * f \\| _ { \\infty } \\leq \\| \\varphi \\| _ { 1 } \\| f \\| _ { \\infty } . $$"
      ],
      "text/plain": [
       "<IPython.core.display.Math object>"
      ]
     },
     "metadata": {},
     "output_type": "display_data"
    },
    {
     "name": "stdout",
     "output_type": "stream",
     "text": [
      "\n",
      "\n",
      "Original (Input) Image: 9\n"
     ]
    },
    {
     "data": {
      "image/png": "[encoded data removed]",
      "text/plain": [
       "<IPython.core.display.Image object>"
      ]
     },
     "metadata": {},
     "output_type": "display_data"
    },
    {
     "name": "stdout",
     "output_type": "stream",
     "text": [
      "Predicted Latex\n",
      "[ { \\cal K } _ { 1 } { } ^ { ; { \\cal P } } , { \\cal K } _ { 2 } { \\cal { \\cal P } } ] = - i { \\cal K } _ { 3 } { { \\cdot P } } \\, , \n",
      "\n",
      "Rendering the predicted latex\n"
     ]
    },
    {
     "data": {
      "text/latex": [
       "$$[ { \\cal K } _ { 1 } { } ^ { ; { \\cal P } } , { \\cal K } _ { 2 } { \\cal { \\cal P } } ] = - i { \\cal K } _ { 3 } { { \\cdot P } } \\, , $$"
      ],
      "text/plain": [
       "<IPython.core.display.Math object>"
      ]
     },
     "metadata": {},
     "output_type": "display_data"
    },
    {
     "name": "stdout",
     "output_type": "stream",
     "text": [
      "\n",
      "\n",
      "Original (Input) Image: 10\n"
     ]
    },
    {
     "data": {
      "image/png": "[encoded data removed]",
      "text/plain": [
       "<IPython.core.display.Image object>"
      ]
     },
     "metadata": {},
     "output_type": "display_data"
    },
    {
     "name": "stdout",
     "output_type": "stream",
     "text": [
      "Predicted Latex\n",
      "\\vec { \\Gamma } _ { \\mu } ( x ) = \\partial _ { \\mu } \\vec { n } ( x ) \\wedge \\vec { n } ( x ) \n",
      "\n",
      "Rendering the predicted latex\n"
     ]
    },
    {
     "data": {
      "text/latex": [
       "$$\\vec { \\Gamma } _ { \\mu } ( x ) = \\partial _ { \\mu } \\vec { n } ( x ) \\wedge \\vec { n } ( x ) $$"
      ],
      "text/plain": [
       "<IPython.core.display.Math object>"
      ]
     },
     "metadata": {},
     "output_type": "display_data"
    },
    {
     "name": "stdout",
     "output_type": "stream",
     "text": [
      "\n",
      "\n",
      "Original (Input) Image: 11\n"
     ]
    },
    {
     "data": {
      "image/png": "[encoded data removed]",
      "text/plain": [
       "<IPython.core.display.Image object>"
      ]
     },
     "metadata": {},
     "output_type": "display_data"
    },
    {
     "name": "stdout",
     "output_type": "stream",
     "text": [
      "Predicted Latex\n",
      "\\gamma _ { n } ^ { \\mu } = \\alpha _ { n } ^ { \\mu } + \\tilde { \\alpha } _ { n } ^ { \\mu } , \\quad n \\neq 0 . \n",
      "\n",
      "Rendering the predicted latex\n"
     ]
    },
    {
     "data": {
      "text/latex": [
       "$$\\gamma _ { n } ^ { \\mu } = \\alpha _ { n } ^ { \\mu } + \\tilde { \\alpha } _ { n } ^ { \\mu } , \\quad n \\neq 0 . $$"
      ],
      "text/plain": [
       "<IPython.core.display.Math object>"
      ]
     },
     "metadata": {},
     "output_type": "display_data"
    },
    {
     "name": "stdout",
     "output_type": "stream",
     "text": [
      "\n",
      "\n",
      "Original (Input) Image: 12\n"
     ]
    },
    {
     "data": {
      "image/png": "[encoded data removed]",
      "text/plain": [
       "<IPython.core.display.Image object>"
      ]
     },
     "metadata": {},
     "output_type": "display_data"
    },
    {
     "name": "stdout",
     "output_type": "stream",
     "text": [
      "Predicted Latex\n",
      "\\hat { R } K _ { 1 } \\hat { R } K _ { 1 } = q ^ { 2 } K _ { 1 } \\hat { R } K _ { 1 } \\hat { R } ^ { - 1 } \\, . \n",
      "\n",
      "Rendering the predicted latex\n"
     ]
    },
    {
     "data": {
      "text/latex": [
       "$$\\hat { R } K _ { 1 } \\hat { R } K _ { 1 } = q ^ { 2 } K _ { 1 } \\hat { R } K _ { 1 } \\hat { R } ^ { - 1 } \\, . $$"
      ],
      "text/plain": [
       "<IPython.core.display.Math object>"
      ]
     },
     "metadata": {},
     "output_type": "display_data"
    },
    {
     "name": "stdout",
     "output_type": "stream",
     "text": [
      "\n",
      "\n",
      "Original (Input) Image: 13\n"
     ]
    },
    {
     "data": {
      "image/png": "[encoded data removed]",
      "text/plain": [
       "<IPython.core.display.Image object>"
      ]
     },
     "metadata": {},
     "output_type": "display_data"
    },
    {
     "name": "stdout",
     "output_type": "stream",
     "text": [
      "Predicted Latex\n",
      "\\sigma _ { 4 } ^ { - 1 } \\sigma _ { 3 } ^ { - 1 } \\sigma _ { 2 } \\sigma _ { 1 } = P _ { n + 1 , n + 2 } \n",
      "\n",
      "Rendering the predicted latex\n"
     ]
    },
    {
     "data": {
      "text/latex": [
       "$$\\sigma _ { 4 } ^ { - 1 } \\sigma _ { 3 } ^ { - 1 } \\sigma _ { 2 } \\sigma _ { 1 } = P _ { n + 1 , n + 2 } $$"
      ],
      "text/plain": [
       "<IPython.core.display.Math object>"
      ]
     },
     "metadata": {},
     "output_type": "display_data"
    },
    {
     "name": "stdout",
     "output_type": "stream",
     "text": [
      "\n",
      "\n",
      "Original (Input) Image: 14\n"
     ]
    },
    {
     "data": {
      "image/png": "[encoded data removed]",
      "text/plain": [
       "<IPython.core.display.Image object>"
      ]
     },
     "metadata": {},
     "output_type": "display_data"
    },
    {
     "name": "stdout",
     "output_type": "stream",
     "text": [
      "Predicted Latex\n",
      "f ^ { \\mu } = B ^ { \\mu } e ^ { \\frac { 1 } { 2 } k ( \\sigma - v \\tau ) } + A ^ { \\mu } \n",
      "\n",
      "Rendering the predicted latex\n"
     ]
    },
    {
     "data": {
      "text/latex": [
       "$$f ^ { \\mu } = B ^ { \\mu } e ^ { \\frac { 1 } { 2 } k ( \\sigma - v \\tau ) } + A ^ { \\mu } $$"
      ],
      "text/plain": [
       "<IPython.core.display.Math object>"
      ]
     },
     "metadata": {},
     "output_type": "display_data"
    },
    {
     "name": "stdout",
     "output_type": "stream",
     "text": [
      "\n",
      "\n",
      "Original (Input) Image: 15\n"
     ]
    },
    {
     "data": {
      "image/png": "[encoded data removed]",
      "text/plain": [
       "<IPython.core.display.Image object>"
      ]
     },
     "metadata": {},
     "output_type": "display_data"
    },
    {
     "name": "stdout",
     "output_type": "stream",
     "text": [
      "Predicted Latex\n",
      "j ^ { \\mu a } = ( \\psi _ { + } \\left| \\gamma ^ { \\mu } T ^ { a } \\right| \\psi _ { + } \\right) , \n",
      "\n",
      "Rendering the predicted latex\n"
     ]
    },
    {
     "data": {
      "text/latex": [
       "$$j ^ { \\mu a } = ( \\psi _ { + } \\left| \\gamma ^ { \\mu } T ^ { a } \\right| \\psi _ { + } \\right) , $$"
      ],
      "text/plain": [
       "<IPython.core.display.Math object>"
      ]
     },
     "metadata": {},
     "output_type": "display_data"
    },
    {
     "name": "stdout",
     "output_type": "stream",
     "text": [
      "\n",
      "\n",
      "Original (Input) Image: 16\n"
     ]
    },
    {
     "data": {
      "image/png": "[encoded data removed]",
      "text/plain": [
       "<IPython.core.display.Image object>"
      ]
     },
     "metadata": {},
     "output_type": "display_data"
    },
    {
     "name": "stdout",
     "output_type": "stream",
     "text": [
      "Predicted Latex\n",
      "\\{ \\psi ( { \\bf x } ) , \\psi ^ { \\dagger } ( { \\bf y } ) \\} = \\delta ( { \\bf x - y } ) . \n",
      "\n",
      "Rendering the predicted latex\n"
     ]
    },
    {
     "data": {
      "text/latex": [
       "$$\\{ \\psi ( { \\bf x } ) , \\psi ^ { \\dagger } ( { \\bf y } ) \\} = \\delta ( { \\bf x - y } ) . $$"
      ],
      "text/plain": [
       "<IPython.core.display.Math object>"
      ]
     },
     "metadata": {},
     "output_type": "display_data"
    },
    {
     "name": "stdout",
     "output_type": "stream",
     "text": [
      "\n",
      "\n"
     ]
    }
   ],
   "source": [
    "batch_size=16\n",
    "from PIL import Image as Img\n",
    "for i in xrange(batch_size):\n",
    "    preds_chars = idx_to_chars(preds[i,1:]).replace('$','')\n",
    "    print \"Original (Input) Image: %d\"%(i+1)\n",
    "    showarray(imgs[i][0])\n",
    "    print \"Predicted Latex\"\n",
    "    print preds_chars.split('#END')[0]\n",
    "    print \"\\nRendering the predicted latex\"\n",
    "    displayPreds(preds_chars)\n",
    "    print \"\\n\""
   ]
  },
  {
   "cell_type": "code",
   "execution_count": 22,
   "metadata": {
    "collapsed": false
   },
   "outputs": [
    {
     "data": {
      "text/latex": [
       "$$\f",
       "rac{l}{n}\\sigma^{\\prime}(0),$$"
      ],
      "text/plain": [
       "<IPython.core.display.Math object>"
      ]
     },
     "metadata": {},
     "output_type": "display_data"
    }
   ],
   "source": [
    "displayPreds('\\frac{l}{n}\\sigma^{\\prime}(0),')"
   ]
  },
  {
   "cell_type": "code",
   "execution_count": null,
   "metadata": {
    "collapsed": true
   },
   "outputs": [],
   "source": []
  }
 ],
 "metadata": {
  "kernelspec": {
   "display_name": "Python 2",
   "language": "python",
   "name": "python2"
  },
  "language_info": {
   "codemirror_mode": {
    "name": "ipython",
    "version": 2
   },
   "file_extension": ".py",
   "mimetype": "text/x-python",
   "name": "python",
   "nbconvert_exporter": "python",
   "pygments_lexer": "ipython2",
   "version": "2.7.12"
  }
 },
 "nbformat": 4,
 "nbformat_minor": 1
}
